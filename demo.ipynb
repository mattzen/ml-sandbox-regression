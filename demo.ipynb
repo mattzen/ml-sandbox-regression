{
 "cells": [
  {
   "cell_type": "markdown",
   "id": "16bc870f",
   "metadata": {},
   "source": [
    "# Linear Regression Demonstration\n",
    "\n",
    "This notebook demonstrates fitting a simple linear regression model to a synthetic dataset."
   ]
  },
  {
   "cell_type": "code",
   "execution_count": null,
   "id": "e20b4f95",
   "metadata": {},
   "outputs": [],
   "source": [
    "# Generate a small synthetic dataset\n",
    "import random\n",
    "import matplotlib.pyplot as plt\n",
    "\n",
    "def generate_data(n=20, slope=2.0, intercept=1.0, noise=1.0):\n",
    "    X = []\n",
    "    y = []\n",
    "    for _ in range(n):\n",
    "        x_val = random.uniform(-10, 10)\n",
    "        noise_val = random.gauss(0, noise)\n",
    "        X.append(x_val)\n",
    "        y.append(slope * x_val + intercept + noise_val)\n",
    "    return X, y\n",
    "\n",
    "X, y = generate_data(n=30, slope=3.0, intercept=-2.0, noise=1.0)\n",
    "\n",
    "plt.scatter(X, y)\n",
    "plt.xlabel('X')\n",
    "plt.ylabel('y')\n",
    "plt.title('Synthetic Linear Data')\n",
    "plt.show()"
   ]
  },
  {
   "cell_type": "code",
   "execution_count": null,
   "id": "680cc271",
   "metadata": {},
   "outputs": [],
   "source": [
    "# Fit the LinearRegression model from linear_regression.py\n",
    "from linear_regression import LinearRegression\n",
    "\n",
    "model = LinearRegression(learning_rate=0.01, n_iterations=10000)\n",
    "model.fit(X, y)\n",
    "\n",
    "print(f'Slope: {model.slope}')\n",
    "print(f'Intercept: {model.intercept}')\n",
    "\n",
    "# Plot the fitted line\n",
    "y_pred = model.predict(X)\n",
    "plt.scatter(X, y, label='Data Points')\n",
    "plt.plot(X, y_pred, color='red', label='Fitted Line')\n",
    "plt.legend()\n",
    "plt.xlabel('X')\n",
    "plt.ylabel('y')\n",
    "plt.title('Linear Regression Fit')\n",
    "plt.show()"
   ]
  }
 ],
 "metadata": {
  "kernelspec": {
   "display_name": "Python 3",
   "language": "python",
   "name": "python3"
  },
  "language_info": {
   "codemirror_mode": {
    "name": "ipython",
    "version": 3
   },
   "file_extension": ".py",
   "mimetype": "text/x-python",
   "name": "python",
   "nbconvert_exporter": "python",
   "pygments_lexer": "ipython3",
   "version": "3.8.10"
  }
 },
 "nbformat": 4,
 "nbformat_minor": 5
}
